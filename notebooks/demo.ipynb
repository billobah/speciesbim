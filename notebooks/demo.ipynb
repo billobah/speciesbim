{
 "cells": [
  {
   "cell_type": "markdown",
   "metadata": {
    "pycharm": {
     "name": "#%% md\n"
    }
   },
   "source": [
    "# Demo\n",
    "\n",
    "This Jupyter notebook is a demo to show how to improve the postgreSQL species database of BIM and how to maintain it.\n",
    "\n",
    "## Setup\n",
    "\n",
    "Load functions and packages:"
   ]
  },
  {
   "cell_type": "code",
   "execution_count": 14,
   "metadata": {},
   "outputs": [],
   "source": [
    "import os\n",
    "import logging\n",
    "import gbif_match\n",
    "import vernacular_names\n",
    "import exotic_status\n",
    "import populate_scientificname_annex\n",
    "from helpers import execute_sql_from_file, get_database_connection, get_config, setup_log_file"
   ]
  },
  {
   "cell_type": "markdown",
   "metadata": {
    "pycharm": {
     "name": "#%% md\n"
    }
   },
   "source": [
    "Define location of log file:"
   ]
  },
  {
   "cell_type": "code",
   "execution_count": 15,
   "metadata": {
    "pycharm": {
     "name": "#%%\n"
    }
   },
   "outputs": [],
   "source": [
    "LOG_FILE_PATH = \"./logs/transform_db.log\"\n",
    "setup_log_file(LOG_FILE_PATH)"
   ]
  },
  {
   "cell_type": "markdown",
   "metadata": {
    "pycharm": {
     "name": "#%% md\n"
    }
   },
   "source": [
    "We connect to (the copy of) the BIM database:"
   ]
  },
  {
   "cell_type": "code",
   "execution_count": 16,
   "metadata": {
    "pycharm": {
     "name": "#%%\n"
    }
   },
   "outputs": [],
   "source": [
    "conn = get_database_connection()"
   ]
  },
  {
   "cell_type": "markdown",
   "metadata": {},
   "source": [
    "Get access to the configuration details (server adress, demo mode, etc.) stored in config file `config.ini`:"
   ]
  },
  {
   "cell_type": "code",
   "execution_count": 17,
   "metadata": {
    "pycharm": {
     "name": "#%%\n"
    }
   },
   "outputs": [],
   "source": [
    "config = get_config()"
   ]
  },
  {
   "cell_type": "markdown",
   "metadata": {
    "pycharm": {
     "name": "#%% md\n"
    }
   },
   "source": [
    "Is demo mode active?"
   ]
  },
  {
   "cell_type": "code",
   "execution_count": 18,
   "metadata": {
    "pycharm": {
     "name": "#%%\n"
    }
   },
   "outputs": [
    {
     "name": "stdout",
     "output_type": "stream",
     "text": [
      "True\n"
     ]
    }
   ],
   "source": [
    "demo = config.getboolean('demo_mode', 'demo')\n",
    "print(demo)"
   ]
  },
  {
   "cell_type": "markdown",
   "metadata": {
    "pycharm": {
     "name": "#%% md\n"
    }
   },
   "source": [
    "Define annex file location and its demo version containing a small but significant subset of annex names:"
   ]
  },
  {
   "cell_type": "code",
   "execution_count": 19,
   "metadata": {
    "pycharm": {
     "name": "#%%\n"
    }
   },
   "outputs": [],
   "source": [
    "__location__ = os.path.realpath(os.path.join(os.getcwd(), os.path.abspath('')))\n",
    "# Full file with all names in official annexes\n",
    "ANNEX_FILE_PATH = os.path.join(__location__, \"../data/raw/official_annexes.csv\")\n",
    "# Annex demo version\n",
    "ANNEX_FILE_PATH_DEMO = os.path.join(__location__, \"../data/raw/official_annexes_demo.csv\")"
   ]
  },
  {
   "cell_type": "markdown",
   "metadata": {},
   "source": [
    "### Step 1: drop new tables if exist\n",
    "\n",
    "This step is a kind of reset, quite useful during development, but not in production."
   ]
  },
  {
   "cell_type": "code",
   "execution_count": 20,
   "metadata": {
    "pycharm": {
     "name": "#%%\n"
    }
   },
   "outputs": [
    {
     "name": "stdout",
     "output_type": "stream",
     "text": [
      "Step 1: Drop our new tables if they already exists (idempotent script)\n"
     ]
    },
    {
     "data": {
      "text/plain": [
       "<cursor object at 0x0000000004F43580; closed: 0>"
      ]
     },
     "execution_count": 20,
     "metadata": {},
     "output_type": "execute_result"
    }
   ],
   "source": [
    "message = \"Step 1: Drop our new tables if they already exists (idempotent script)\"\n",
    "print(message)\n",
    "logging.info(message)\n",
    "execute_sql_from_file(conn, 'drop_new_tables_if_exists.sql')"
   ]
  },
  {
   "cell_type": "markdown",
   "metadata": {
    "pycharm": {
     "name": "#%% md\n"
    }
   },
   "source": [
    "### Step 2: create the new tables\n",
    "\n",
    "Create the following tables:\n",
    "\n",
    "1. `scientificname`: all names from `taxon`\n",
    "2. `taxonomy`: taxonomy backbone of all scientific names. This table is entirely populated with information from GBIF Backbone\n",
    "3. `scientificnameannex`: all names (scientific names or expressions) contained in official annexes\n",
    "4. `vernacularname`: vernacular names of all taxa in `taxonomy`. Table entirely populated with information from GBIF."
   ]
  },
  {
   "cell_type": "code",
   "execution_count": 21,
   "metadata": {
    "pycharm": {
     "name": "#%%\n"
    }
   },
   "outputs": [
    {
     "name": "stdout",
     "output_type": "stream",
     "text": [
      "Step 2: create the new tables\n"
     ]
    },
    {
     "data": {
      "text/plain": [
       "<cursor object at 0x000000000F726200; closed: 0>"
      ]
     },
     "execution_count": 21,
     "metadata": {},
     "output_type": "execute_result"
    }
   ],
   "source": [
    "message = \"Step 2: create the new tables\"\n",
    "print(message)\n",
    "logging.info(message)\n",
    "execute_sql_from_file(conn, 'create_new_tables.sql')"
   ]
  },
  {
   "cell_type": "markdown",
   "metadata": {},
   "source": [
    "### Step 3: populate the scientificname table based on the actual content\n",
    "\n",
    "We populate the `scientificname` table with taxa in `taxon`. From `taxon` we select the fields:\n",
    "1. `id`\n",
    "2. `acceptedname`\n",
    "3. `scientificnameauthorship`\n",
    "\n",
    "and we store them as:\n",
    "1. `deprecatedTaxonId`\n",
    "2. `scientificName`\n",
    "3. `authorship`\n",
    "\n",
    "We select only the taxa in use, i.e. taxa which are used in any of the linked tables."
   ]
  },
  {
   "cell_type": "code",
   "execution_count": 22,
   "metadata": {
    "pycharm": {
     "name": "#%%\n"
    }
   },
   "outputs": [
    {
     "name": "stdout",
     "output_type": "stream",
     "text": [
      "Step 3: populate the scientificname table based on the actual content\n"
     ]
    },
    {
     "data": {
      "text/plain": [
       "<cursor object at 0x000000000F7263C0; closed: 0>"
      ]
     },
     "execution_count": 22,
     "metadata": {},
     "output_type": "execute_result"
    }
   ],
   "source": [
    "message = \"Step 3: populate the scientificname table based on the actual content\"\n",
    "print(message)\n",
    "logging.info(message)\n",
    "execute_sql_from_file(conn, 'populate_scientificname.sql',\n",
    "                      {'limit': config.get('transform_db', 'scientificnames-limit')})"
   ]
  },
  {
   "cell_type": "markdown",
   "metadata": {
    "pycharm": {
     "name": "#%% md\n"
    }
   },
   "source": [
    "### Step 4: populate the scientificnameannex table based on official annexes\n",
    "\n",
    "Similarly to previous step, we populate the scientificnameannex table with all names (scientific names or expresssions)\n",
    "in official annexes, [`official_annexes.csv`](https://github.com/inbo/speciesbim/blob/master/data/raw/official_annexes.csv).\n",
    "Some cleaning correcting typos or simplyfing taxa where possible is performed.\n",
    "\n",
    "In this demo we use a small but significant subset, [`official_annexes_demo.csv`](https://github.com/inbo/speciesbim/blob/master/data/raw/official_annexes_demo.csv)."
   ]
  },
  {
   "cell_type": "code",
   "execution_count": 23,
   "metadata": {
    "pycharm": {
     "name": "#%%\n"
    }
   },
   "outputs": [
    {
     "name": "stdout",
     "output_type": "stream",
     "text": [
      "Step 4: populate the scientificnameannex table based on official annexes\n",
      "Columns in C:\\Users\\damiano_oldoni\\Documents\\INBO\\repositories\\speciesbim\\notebooks\\../data/raw/official_annexes_demo.csv: annex_code, scientific_name_original, scientific_name_corrected, page_number, remarks\n",
      "Number of taxa listed in official annexes and ordinances: 14\n",
      "Total number of taxa inserted in scientificnameannex: 14\n",
      "Table scientificnameannex populated in 1s.\n"
     ]
    }
   ],
   "source": [
    "message = \"Step 4: populate the scientificnameannex table based on official annexes\"\n",
    "print(message)\n",
    "logging.info(message)\n",
    "if not demo:\n",
    "    populate_scientificname_annex.populate_scientificname_annex(conn, config_parser=config,\n",
    "                                                                annex_file=ANNEX_FILE_PATH)\n",
    "else:\n",
    "    populate_scientificname_annex.populate_scientificname_annex(conn, config_parser=config,\n",
    "                                                                annex_file=ANNEX_FILE_PATH_DEMO)"
   ]
  },
  {
   "cell_type": "markdown",
   "metadata": {
    "pycharm": {
     "name": "#%% md\n"
    }
   },
   "source": [
    "### Step5: populate `taxonomy` table with matches to GBIF Backbone and corresponding backbone tree\n",
    "\n",
    "In this step all scientific names in `scientificname` table are evaluated against the [_GBIF Backbone Taxonomy_](https://www.gbif.org/dataset/d7dddbf4-2cf0-4f39-9b2a-bb099caae36c) or simply _GBIF Backbone_.\n",
    "If a match occurs, the taxon and its related tree is added to `taxonomy`. In case of synonyms, their corresponding accepted taxa are added as well.\n",
    "Information about the match is added in `scientificname` table as well."
   ]
  },
  {
   "cell_type": "code",
   "execution_count": 24,
   "metadata": {
    "pycharm": {
     "name": "#%%\n"
    }
   },
   "outputs": [
    {
     "name": "stdout",
     "output_type": "stream",
     "text": [
      "Step 5: populate taxonomy table with matches to GBIF Backbone and related backbone tree and update scientificname table\n",
      "Number of taxa in scientificname table: 4 (demo mode)\n",
      "Match names (scientificName + authorship) to GBIF Backbone (demo mode)\n",
      "Timestamp used for this (whole) match process: 2020-08-28 22:55:26.640000\n",
      "Try matching the \"Rana ridibunda Pallas, 1771\" name...\n",
      "Recursively adding the taxon with GBIF key 2426662 (Rana ridibunda Pallas, 1771) to the taxonomy table\n",
      "According to GBIF, this is *not* a root taxon, we'll insert parents first\n",
      "    Recursively adding the taxon with GBIF key 2426629 (Pelophylax Fitzinger, 1843) to the taxonomy table\n",
      "    According to GBIF, this is *not* a root taxon, we'll insert parents first\n",
      "        Recursively adding the taxon with GBIF key 6746 (Ranidae) to the taxonomy table\n",
      "        According to GBIF, this is *not* a root taxon, we'll insert parents first\n",
      "            Recursively adding the taxon with GBIF key 952 (Anura) to the taxonomy table\n",
      "            According to GBIF, this is *not* a root taxon, we'll insert parents first\n",
      "                Recursively adding the taxon with GBIF key 131 (Amphibia) to the taxonomy table\n",
      "                According to GBIF, this is *not* a root taxon, we'll insert parents first\n",
      "                    Recursively adding the taxon with GBIF key 44 (Chordata) to the taxonomy table\n",
      "                    According to GBIF, this is *not* a root taxon, we'll insert parents first\n",
      "                        Recursively adding the taxon with GBIF key 1 (Animalia) to the taxonomy table\n",
      "                        According to GBIF, this is a root taxon (no more parents to insert)\n",
      "                        According to GBIF, this is *not* a synonym (no accepted taxon to insert)\n",
      "                        Taxon Animalia inserted in taxonomy (id = 1, parentId = None).\n",
      "                    According to GBIF, this is *not* a synonym (no accepted taxon to insert)\n",
      "                    Taxon Chordata inserted in taxonomy (id = 2, parentId = 1).\n",
      "                According to GBIF, this is *not* a synonym (no accepted taxon to insert)\n",
      "                Taxon Amphibia inserted in taxonomy (id = 3, parentId = 2).\n",
      "            According to GBIF, this is *not* a synonym (no accepted taxon to insert)\n",
      "            Taxon Anura inserted in taxonomy (id = 4, parentId = 3).\n",
      "        According to GBIF, this is *not* a synonym (no accepted taxon to insert)\n",
      "        Taxon Ranidae inserted in taxonomy (id = 5, parentId = 4).\n",
      "    According to GBIF, this is *not* a synonym (no accepted taxon to insert)\n",
      "    Taxon Pelophylax Fitzinger, 1843 inserted in taxonomy (id = 6, parentId = 5).\n",
      "According to GBIF, this is a synonym. We'll insert accepted taxon first\n",
      "    Recursively adding the taxon with GBIF key 2426661 (Pelophylax ridibundus (Pallas, 1771)) to the taxonomy table\n",
      "    According to GBIF, this is *not* a root taxon, we'll insert parents first\n",
      "        Recursively adding the taxon with GBIF key 2426629 (Pelophylax Fitzinger, 1843) to the taxonomy table\n",
      "        This taxon already appears in the taxonomy table\n",
      "        Taxon Pelophylax Fitzinger, 1843 already present in taxonomy (id = 6).\n",
      "    According to GBIF, this is *not* a synonym (no accepted taxon to insert)\n",
      "    Taxon Pelophylax ridibundus (Pallas, 1771) inserted in taxonomy (id = 7, parentId = 6).\n",
      "Taxon Rana ridibunda Pallas, 1771 inserted in taxonomy (id = 8, parentId = 6, acceptedId = 7).\n",
      "Add match information (and taxonomiyId, if a match was found) to scientificname for Rana ridibunda Pallas, 1771 (id: 582).\n",
      "Try matching the \"Fallopia japonica (Houtt.) Ronse Decr.\" name...\n",
      "Recursively adding the taxon with GBIF key 5334357 (Fallopia japonica (Houtt.) Ronse Decraene) to the taxonomy table\n",
      "According to GBIF, this is *not* a root taxon, we'll insert parents first\n",
      "    Recursively adding the taxon with GBIF key 8420120 (Reynoutria Houtt.) to the taxonomy table\n",
      "    According to GBIF, this is *not* a root taxon, we'll insert parents first\n",
      "        Recursively adding the taxon with GBIF key 2416 (Polygonaceae) to the taxonomy table\n",
      "        According to GBIF, this is *not* a root taxon, we'll insert parents first\n",
      "            Recursively adding the taxon with GBIF key 422 (Caryophyllales) to the taxonomy table\n",
      "            According to GBIF, this is *not* a root taxon, we'll insert parents first\n",
      "                Recursively adding the taxon with GBIF key 220 (Magnoliopsida) to the taxonomy table\n",
      "                According to GBIF, this is *not* a root taxon, we'll insert parents first\n",
      "                    Recursively adding the taxon with GBIF key 7707728 (Tracheophyta) to the taxonomy table\n",
      "                    According to GBIF, this is *not* a root taxon, we'll insert parents first\n",
      "                        Recursively adding the taxon with GBIF key 6 (Plantae) to the taxonomy table\n",
      "                        According to GBIF, this is a root taxon (no more parents to insert)\n",
      "                        According to GBIF, this is *not* a synonym (no accepted taxon to insert)\n",
      "                        Taxon Plantae inserted in taxonomy (id = 9, parentId = None).\n",
      "                    According to GBIF, this is *not* a synonym (no accepted taxon to insert)\n",
      "                    Taxon Tracheophyta inserted in taxonomy (id = 10, parentId = 9).\n",
      "                According to GBIF, this is *not* a synonym (no accepted taxon to insert)\n",
      "                Taxon Magnoliopsida inserted in taxonomy (id = 11, parentId = 10).\n",
      "            According to GBIF, this is *not* a synonym (no accepted taxon to insert)\n",
      "            Taxon Caryophyllales inserted in taxonomy (id = 12, parentId = 11).\n",
      "        According to GBIF, this is *not* a synonym (no accepted taxon to insert)\n",
      "        Taxon Polygonaceae inserted in taxonomy (id = 13, parentId = 12).\n",
      "    According to GBIF, this is *not* a synonym (no accepted taxon to insert)\n",
      "    Taxon Reynoutria Houtt. inserted in taxonomy (id = 14, parentId = 13).\n",
      "According to GBIF, this is a synonym. We'll insert accepted taxon first\n",
      "    Recursively adding the taxon with GBIF key 2889173 (Reynoutria japonica Houtt.) to the taxonomy table\n",
      "    According to GBIF, this is *not* a root taxon, we'll insert parents first\n",
      "        Recursively adding the taxon with GBIF key 8420120 (Reynoutria Houtt.) to the taxonomy table\n",
      "        This taxon already appears in the taxonomy table\n",
      "        Taxon Reynoutria Houtt. already present in taxonomy (id = 14).\n",
      "    According to GBIF, this is *not* a synonym (no accepted taxon to insert)\n",
      "    Taxon Reynoutria japonica Houtt. inserted in taxonomy (id = 15, parentId = 14).\n",
      "Taxon Fallopia japonica (Houtt.) Ronse Decraene inserted in taxonomy (id = 16, parentId = 14, acceptedId = 15).\n",
      "Add match information (and taxonomiyId, if a match was found) to scientificname for Fallopia japonica (Houtt.) Ronse Decr. (id: 5640).\n",
      "Try matching the \"Mellitiosporium pteridium (W. Phillips & Buckn.) Sacc.\" name...\n",
      "No match found for Mellitiosporium pteridium (W. Phillips & Buckn.) Sacc. (id: 9166).\n",
      "Add match information (and taxonomiyId, if a match was found) to scientificname for Mellitiosporium pteridium (W. Phillips & Buckn.) Sacc. (id: 9166).\n",
      "Try matching the \"Fallopia Adans.\" name...\n",
      "Recursively adding the taxon with GBIF key 2889418 (Fallopia Adans.) to the taxonomy table\n",
      "According to GBIF, this is *not* a root taxon, we'll insert parents first\n",
      "    Recursively adding the taxon with GBIF key 2416 (Polygonaceae) to the taxonomy table\n",
      "    This taxon already appears in the taxonomy table\n",
      "    Taxon Polygonaceae already present in taxonomy (id = 13).\n",
      "According to GBIF, this is *not* a synonym (no accepted taxon to insert)\n",
      "Taxon Fallopia Adans. inserted in taxonomy (id = 17, parentId = 13).\n",
      "Add match information (and taxonomiyId, if a match was found) to scientificname for Fallopia Adans. (id: 11687).\n",
      "Number of matched names: 3/4 (75.00%).\n",
      "Total number of insertions in the taxonomy table: 34\n",
      "Match to GBIF Backbone performed in 14s.\n"
     ]
    }
   ],
   "source": [
    "message = \"Step 5: populate taxonomy table with matches to GBIF Backbone and related backbone tree \" +\\\n",
    "          \"and update scientificname table\"\n",
    "print(message)\n",
    "logging.info(message)\n",
    "if not demo:\n",
    "    gbif_match.gbif_match(conn, config_parser=config, unmatched_only=False)\n",
    "else:\n",
    "    gbif_match.gbif_match(conn, config_parser=config, unmatched_only=False)"
   ]
  },
  {
   "cell_type": "markdown",
   "metadata": {
    "pycharm": {
     "name": "#%% md\n"
    }
   },
   "source": [
    "### Step 6: vernacular names\n",
    "\n",
    "We retrieve all vernacular names of all taxa in `taxonomy` table for a selected number of langauges: French, Dutch and\n",
    "English. The names are stored in table `vernacularnames`."
   ]
  },
  {
   "cell_type": "code",
   "execution_count": 12,
   "metadata": {
    "pycharm": {
     "name": "#%%\n"
    }
   },
   "outputs": [
    {
     "name": "stdout",
     "output_type": "stream",
     "text": [
      "Step 6: populate vernacular names from GBIF for each entry in the taxonomy table\n",
      "We'll now load vernacular names for 17 entries in the taxonomy table. Languages: fr, nl, en\n",
      "Now saving 'Animals'(en) for taxon with ID: 1 (source: Phthiraptera.info)\n",
      "Now saving 'animals'(en) for taxon with ID: 1 (source: Integrated Taxonomic Information System (ITIS))\n",
      "Now saving 'animaux'(fr) for taxon with ID: 1 (source: Integrated Taxonomic Information System (ITIS))\n",
      "Now saving 'dieren'(nl) for taxon with ID: 1 (source: Belgian Species List)\n",
      "Now saving 'animals'(en) for taxon with ID: 1 (source: World Register of Marine Species)\n",
      "Now saving 'animals'(en) for taxon with ID: 1 (source: World Register of Introduced Marine Species (WRiMS))\n",
      "Now saving 'animaux'(fr) for taxon with ID: 1 (source: World Register of Marine Species)\n",
      "Now saving 'animaux'(fr) for taxon with ID: 1 (source: World Register of Introduced Marine Species (WRiMS))\n",
      "Now saving 'dieren'(nl) for taxon with ID: 1 (source: World Register of Marine Species)\n",
      "Now saving 'dieren'(nl) for taxon with ID: 1 (source: World Register of Introduced Marine Species (WRiMS))\n",
      "Now saving 'chordates'(en) for taxon with ID: 2 (source: Integrated Taxonomic Information System (ITIS))\n",
      "Now saving 'cordés'(fr) for taxon with ID: 2 (source: Integrated Taxonomic Information System (ITIS))\n",
      "Now saving 'chordadieren'(nl) for taxon with ID: 2 (source: World Register of Marine Species)\n",
      "Now saving 'chordadieren'(nl) for taxon with ID: 2 (source: World Register of Introduced Marine Species (WRiMS))\n",
      "Now saving 'Amphibians'(en) for taxon with ID: 3 (source: Integrated Taxonomic Information System (ITIS))\n",
      "Now saving 'amfibieën'(nl) for taxon with ID: 3 (source: Belgian Species List)\n",
      "Now saving 'amphibiens'(fr) for taxon with ID: 3 (source: Integrated Taxonomic Information System (ITIS))\n",
      "Now saving 'amphibians'(en) for taxon with ID: 3 (source: World Register of Marine Species)\n",
      "Now saving 'Frogs'(en) for taxon with ID: 4 (source: Integrated Taxonomic Information System (ITIS))\n",
      "Now saving 'Toads'(en) for taxon with ID: 4 (source: Integrated Taxonomic Information System (ITIS))\n",
      "Now saving 'crapauds'(fr) for taxon with ID: 4 (source: Integrated Taxonomic Information System (ITIS))\n",
      "Now saving 'frog'(en) for taxon with ID: 4 (source: The Paleobiology Database)\n",
      "Now saving 'frog'(en) for taxon with ID: 4 (source: The Paleobiology Database)\n",
      "Now saving 'grenouilles'(fr) for taxon with ID: 4 (source: Integrated Taxonomic Information System (ITIS))\n",
      "Now saving 'frogs'(en) for taxon with ID: 4 (source: World Register of Marine Species)\n",
      "Now saving 'kikkers'(nl) for taxon with ID: 4 (source: World Register of Marine Species)\n",
      "Now saving 'Ranid Frogs'(en) for taxon with ID: 5 (source: Integrated Taxonomic Information System (ITIS))\n",
      "Now saving 'Ranids'(en) for taxon with ID: 5 (source: Integrated Taxonomic Information System (ITIS))\n",
      "Now saving 'Riparian Frogs'(en) for taxon with ID: 5 (source: Integrated Taxonomic Information System (ITIS))\n",
      "Now saving 'True Frogs'(en) for taxon with ID: 5 (source: Integrated Taxonomic Information System (ITIS))\n",
      "Now saving 'echte kikkers'(nl) for taxon with ID: 5 (source: Belgian Species List)\n",
      "Now saving 'Grenouille rieuse'(fr) for taxon with ID: 7 (source: Invasive Alien Species in Belgium - HARMONIA database)\n",
      "Now saving 'Marsh frog'(en) for taxon with ID: 7 (source: Invasive Alien Species in Belgium - HARMONIA database)\n",
      "Now saving 'Meerkikker, Grote groene kikker'(nl) for taxon with ID: 7 (source: Invasive Alien Species in Belgium - HARMONIA database)\n",
      "Now saving 'Meerkikker'(nl) for taxon with ID: 7 (source: Checklist Dutch Species Register - Nederlands Soortenregister)\n",
      "Now saving 'Grote groene kikker'(nl) for taxon with ID: 7 (source: Checklist Dutch Species Register - Nederlands Soortenregister)\n",
      "Now saving 'Grenouille rieuse'(fr) for taxon with ID: 8 (source: EUNIS Biodiversity Database)\n",
      "Now saving 'Lake frog'(en) for taxon with ID: 8 (source: EUNIS Biodiversity Database)\n",
      "Now saving 'grenouille rieuse'(fr) for taxon with ID: 8 (source: Belgian Species List)\n",
      "Now saving 'marsh frog'(en) for taxon with ID: 8 (source: Belgian Species List)\n",
      "Now saving 'meerkikker, grote groene kikker'(nl) for taxon with ID: 8 (source: Belgian Species List)\n",
      "Now saving 'planten'(nl) for taxon with ID: 9 (source: Belgian Species List)\n",
      "Now saving 'plantes'(fr) for taxon with ID: 9 (source: Integrated Taxonomic Information System (ITIS))\n",
      "Now saving 'plants'(en) for taxon with ID: 9 (source: Integrated Taxonomic Information System (ITIS))\n",
      "Now saving 'planten'(nl) for taxon with ID: 9 (source: World Register of Marine Species)\n",
      "Now saving 'planten'(nl) for taxon with ID: 9 (source: World Register of Introduced Marine Species (WRiMS))\n",
      "Now saving 'plants'(en) for taxon with ID: 9 (source: World Register of Marine Species)\n",
      "Now saving 'plants'(en) for taxon with ID: 9 (source: World Register of Introduced Marine Species (WRiMS))\n",
      "Now saving 'tracheophytes'(en) for taxon with ID: 10 (source: Integrated Taxonomic Information System (ITIS))\n",
      "Now saving 'vaatplanten'(nl) for taxon with ID: 10 (source: Belgian Species List)\n",
      "Now saving 'vascular plants'(en) for taxon with ID: 10 (source: Integrated Taxonomic Information System (ITIS))\n",
      "Now saving 'vaatplanten'(nl) for taxon with ID: 10 (source: World Register of Marine Species)\n",
      "Now saving 'vaatplanten'(nl) for taxon with ID: 10 (source: World Register of Introduced Marine Species (WRiMS))\n",
      "Now saving 'vascular plants'(en) for taxon with ID: 10 (source: World Register of Marine Species)\n",
      "Now saving 'vascular plants'(en) for taxon with ID: 10 (source: World Register of Introduced Marine Species (WRiMS))\n",
      "Now saving 'buckwheat'(en) for taxon with ID: 13 (source: Integrated Taxonomic Information System (ITIS))\n",
      "Now saving 'duizendknoopfamilie'(nl) for taxon with ID: 13 (source: Belgian Species List)\n",
      "Now saving 'knotweed'(en) for taxon with ID: 13 (source: Integrated Taxonomic Information System (ITIS))\n",
      "Now saving 'renouées'(fr) for taxon with ID: 13 (source: Integrated Taxonomic Information System (ITIS))\n",
      "Now saving 'Polygonacées'(fr) for taxon with ID: 13 (source: Database of Vascular Plants of Canada (VASCAN))\n",
      "Now saving 'buckwheat family'(en) for taxon with ID: 13 (source: Database of Vascular Plants of Canada (VASCAN))\n",
      "Now saving 'duizendknoopfamilie'(nl) for taxon with ID: 13 (source: World Register of Marine Species)\n",
      "Now saving 'knotweed'(en) for taxon with ID: 14 (source: GRIN Taxonomy)\n",
      "Now saving 'Japanese knotweed'(en) for taxon with ID: 15 (source: GRIN Taxonomy)\n",
      "Now saving 'Mexican-bamboo'(en) for taxon with ID: 15 (source: GRIN Taxonomy)\n",
      "Now saving 'Japanese knotweed'(en) for taxon with ID: 15 (source: Database of Vascular Plants of Canada (VASCAN))\n",
      "Now saving 'renouée du Japon'(fr) for taxon with ID: 15 (source: Database of Vascular Plants of Canada (VASCAN))\n",
      "Now saving 'Mexican bamboo'(en) for taxon with ID: 15 (source: Database of Vascular Plants of Canada (VASCAN))\n",
      "Now saving 'fleeceflower'(en) for taxon with ID: 15 (source: Database of Vascular Plants of Canada (VASCAN))\n",
      "Now saving 'Japanese knotweed'(en) for taxon with ID: 16 (source: Invasive Alien Species in Belgium - HARMONIA database)\n",
      "Now saving 'Japanese knotweed'(en) for taxon with ID: 16 (source: Integrated Taxonomic Information System (ITIS))\n",
      "Now saving 'Japanese knotweed'(en) for taxon with ID: 16 (source: DAISIE - Inventory of alien invasive species in Europe)\n",
      "Now saving 'Japanse duizendknoop'(nl) for taxon with ID: 16 (source: DAISIE - Inventory of alien invasive species in Europe)\n",
      "Now saving 'Japanse duizendknoop'(nl) for taxon with ID: 16 (source: Invasive Alien Species in Belgium - HARMONIA database)\n",
      "Now saving 'Renouée du Japon'(fr) for taxon with ID: 16 (source: DAISIE - Inventory of alien invasive species in Europe)\n",
      "Now saving 'Renouée du japon'(fr) for taxon with ID: 16 (source: Invasive Alien Species in Belgium - HARMONIA database)\n",
      "Now saving 'japanese bindweed'(en) for taxon with ID: 16 (source: Belgian Species List)\n",
      "Now saving 'japanse duizendknoop'(nl) for taxon with ID: 16 (source: Belgian Species List)\n",
      "Now saving 'renouée du japon'(fr) for taxon with ID: 16 (source: Belgian Species List)\n",
      "Now saving 'Japanse duizendknoop'(nl) for taxon with ID: 16 (source: Checklist Dutch Species Register - Nederlands Soortenregister)\n",
      "Now saving 'Japanese knotweed'(en) for taxon with ID: 16 (source: World Register of Marine Species)\n",
      "Now saving 'false-buckwheat'(en) for taxon with ID: 17 (source: Integrated Taxonomic Information System (ITIS))\n",
      "Now saving 'false-buckwheat'(en) for taxon with ID: 17 (source: Database of Vascular Plants of Canada (VASCAN))\n",
      "Done loading 83 (for 17 taxa) vernacular names in 9s.\n"
     ]
    }
   ],
   "source": [
    "message = \"Step 6: populate vernacular names from GBIF for each entry in the taxonomy table\"\n",
    "print(message)\n",
    "logging.info(message)\n",
    "# list of 2-letters language codes (ISO 639-1)\n",
    "languages = ['fr', 'nl', 'en']\n",
    "vernacular_names.populate_vernacular_names(conn, config_parser=config, empty_only=False, filter_lang=languages)"
   ]
  },
  {
   "cell_type": "markdown",
   "metadata": {
    "pycharm": {
     "name": "#%% md\n"
    }
   },
   "source": [
    "### Step 7: add exotic status of taxa in `taxonomy`\n",
    "\n",
    "The exotic status (`True` or `False`) for all taxa in `taxonomy` is filled by consulting the GBIF checklist\n",
    "[_Global Register of Introduced and Invasive Species - Belgium_](https://www.gbif.org/dataset/6d9e952f-948c-4483-9807-575348147c7e)."
   ]
  },
  {
   "cell_type": "code",
   "execution_count": 13,
   "metadata": {
    "pycharm": {
     "name": "#%%\n"
    }
   },
   "outputs": [
    {
     "name": "stdout",
     "output_type": "stream",
     "text": [
      "Step 7: populate field exotic_be (values: True of False) from GRIIS checklist for each entry in taxonomy table \n",
      "We'll now retrieve the GBIF checklist containing the exotic taxa in Belgium, datasetKey: 6d9e952f-948c-4483-9807-575348147c7e.\n",
      "Retrieved 2891 exotic taxa in 32s.\n",
      "We'll now update exotic_be field for 17 taxa of the taxonomy table.\n",
      "Taxon Pelophylax ridibundus (Pallas, 1771) (gbifId: 2426661) is exotic in Belgium.\n",
      "    Taxon Rana ridibunda Pallas, 1771 (gbifId: 2426662) is exotic in Belgium.\n",
      "Taxon Reynoutria japonica Houtt. (gbifId: 2889173) is exotic in Belgium.\n",
      "    Taxon Fallopia japonica (Houtt.) Ronse Decraene (gbifId: 5334357) is exotic in Belgium.\n",
      "4 exotic taxa found in taxonomy.\n",
      "Field exotic_be updated for 17 taxa in taxonomy in 0.05s.\n"
     ]
    }
   ],
   "source": [
    "message = \"Step 7: populate field exotic_be (values: True of False) from GRIIS checklist for each entry in \" \\\n",
    "          \"taxonomy table \"\n",
    "print(message)\n",
    "logging.info(message)\n",
    "# GBIF datasetKey of checklist: Global Register of Introduced and Invasive Species - Belgium\n",
    "griis_be = \"6d9e952f-948c-4483-9807-575348147c7e\"\n",
    "exotic_status.populate_is_exotic_be_field(conn, config_parser=config, exotic_status_source=griis_be)\n"
   ]
  }
 ],
 "metadata": {
  "kernelspec": {
   "display_name": "Python 3",
   "language": "python",
   "name": "python3"
  },
  "language_info": {
   "codemirror_mode": {
    "name": "ipython",
    "version": 3
   },
   "file_extension": ".py",
   "mimetype": "text/x-python",
   "name": "python",
   "nbconvert_exporter": "python",
   "pygments_lexer": "ipython3",
   "version": "3.8.3"
  }
 },
 "nbformat": 4,
 "nbformat_minor": 4
}